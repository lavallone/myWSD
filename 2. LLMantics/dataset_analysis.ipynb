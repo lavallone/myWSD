{
 "cells": [
  {
   "cell_type": "markdown",
   "metadata": {},
   "source": [
    "# LLMantics dataset"
   ]
  },
  {
   "cell_type": "markdown",
   "metadata": {},
   "source": [
    "**Import dataset**"
   ]
  },
  {
   "cell_type": "code",
   "execution_count": 1,
   "metadata": {},
   "outputs": [],
   "source": [
    "import json\n",
    "\n",
    "with open(\"ALL_preprocessed.json\", 'r') as file:\n",
    "    data = json.load(file)"
   ]
  },
  {
   "cell_type": "code",
   "execution_count": null,
   "metadata": {},
   "outputs": [],
   "source": [
    "# CREATE a TOY dataset for making faster experiments\n",
    "\n",
    "import json\n",
    "import random\n",
    "\n",
    "def read_json_file(file_path):\n",
    "    with open(file_path, 'r') as file:\n",
    "        data = json.load(file)\n",
    "    return data\n",
    "\n",
    "def generate_random_dataset(original_data, num_samples=1000):\n",
    "    random_dataset = []\n",
    "    for _ in range(num_samples):\n",
    "        random_sample = random.choice(original_data)\n",
    "        random_dataset.append(random_sample)\n",
    "    return random_dataset\n",
    "\n",
    "def write_json_file(data, file_path):\n",
    "    with open(file_path, 'w') as file:\n",
    "        json.dump(data, file, indent=4)\n",
    "\n",
    "# Path to the JSON file containing the original dataset\n",
    "original_file_path = 'ALL_preprocessed.json'\n",
    "\n",
    "# Path to save the randomly generated dataset\n",
    "random_file_path = 'ALL_preprocessed_TOY.json'\n",
    "\n",
    "# Read the original dataset from the JSON file\n",
    "original_data = read_json_file(original_file_path)\n",
    "\n",
    "# Generate a new dataset with 1000 random samples\n",
    "random_dataset = generate_random_dataset(original_data, num_samples=500)\n",
    "\n",
    "# Write the randomly generated dataset to a new JSON file\n",
    "write_json_file(random_dataset, random_file_path)\n",
    "\n",
    "print(\"Random dataset with 1000 samples generated successfully and saved as 'ALL_preprocessed_TOY.json'.\")"
   ]
  },
  {
   "cell_type": "markdown",
   "metadata": {},
   "source": [
    "## Data statistics"
   ]
  },
  {
   "cell_type": "markdown",
   "metadata": {},
   "source": [
    "**Analysis on the dataset**"
   ]
  },
  {
   "cell_type": "code",
   "execution_count": 2,
   "metadata": {
    "metadata": {}
   },
   "outputs": [],
   "source": [
    "import numpy as np\n",
    "import matplotlib.pyplot as plt\n",
    "\n",
    "def plot_histogram(sent_lengths_list):\n",
    "    sent_np = np.asarray(sent_lengths_list)\n",
    "    print(\"LENGHT SENTENCES STATISTICS:\")\n",
    "    print(f\"| mean: {sent_np.mean()}\")\n",
    "    print(f\"| std: {sent_np.std()}\")\n",
    "    print(f\"| min: {sent_np.min()}\")\n",
    "    print(f\"| max: {sent_np.max()}\")\n",
    "\n",
    "    plt.figure(figsize=(8,8))\n",
    "    _ = plt.hist(sent_np, bins='auto', color = \"gold\", ec=\"orange\")\n",
    "    plt.show()"
   ]
  },
  {
   "cell_type": "code",
   "execution_count": 3,
   "metadata": {},
   "outputs": [
    {
     "name": "stdout",
     "output_type": "stream",
     "text": [
      "Counter({0: 4603, 1: 1334, 2: 530, 3: 282, 4: 138, 5: 82, 7: 57, 8: 39, 6: 39, 10: 35, 9: 34, 15: 16, 18: 9, 12: 8, 11: 8, 14: 7, 16: 6, 13: 6, 17: 3, 19: 3, 35: 2, 25: 2, 20: 2, 33: 2, 38: 1, 44: 1, 24: 1, 23: 1, 22: 1, 28: 1})\n",
      "LENGHT SENTENCES STATISTICS:\n",
      "| mean: 0.9891079553288294\n",
      "| std: 2.436003996997197\n",
      "| min: 0\n",
      "| max: 44\n"
     ]
    },
    {
     "data": {
      "image/png": "[encoded data removed]",
      "text/plain": [
       "<Figure size 800x800 with 1 Axes>"
      ]
     },
     "metadata": {},
     "output_type": "display_data"
    }
   ],
   "source": [
    "# gold candidate position in the candidate list\n",
    "# as imagined, most of the gold candidates are the most frequent senses (position 0) \n",
    "\n",
    "from collections import Counter\n",
    "\n",
    "l = []\n",
    "for instance in data:\n",
    "    gold_candidate = instance[\"gold\"][0]\n",
    "    l.append([i for i,c in enumerate(instance[\"candidates\"]) if c==gold_candidate][0])\n",
    "\n",
    "c = Counter(l)\n",
    "print(c)\n",
    "\n",
    "plot_histogram(l)"
   ]
  },
  {
   "cell_type": "code",
   "execution_count": 4,
   "metadata": {},
   "outputs": [
    {
     "name": "stdout",
     "output_type": "stream",
     "text": [
      "Counter({1: 1301, 2: 1056, 4: 867, 3: 790, 5: 648, 7: 460, 6: 459, 11: 294, 10: 271, 8: 200, 9: 182, 12: 116, 13: 99, 14: 77, 16: 50, 15: 36, 21: 35, 49: 31, 36: 31, 19: 31, 17: 27, 24: 27, 20: 25, 26: 18, 42: 16, 30: 16, 22: 15, 28: 11, 44: 11, 27: 10, 25: 10, 41: 6, 35: 5, 23: 5, 32: 5, 33: 5, 18: 5, 40: 1, 59: 1})\n",
      "LENGHT SENTENCES STATISTICS:\n",
      "| mean: 5.876464911071281\n",
      "| std: 6.507738211787674\n",
      "| min: 1\n",
      "| max: 59\n"
     ]
    },
    {
     "data": {
      "image/png": "[encoded data removed]",
      "text/plain": [
       "<Figure size 800x800 with 1 Axes>"
      ]
     },
     "metadata": {},
     "output_type": "display_data"
    }
   ],
   "source": [
    "# ambiguity cardinality of target words\n",
    "from collections import Counter\n",
    "\n",
    "l = []\n",
    "for instance in data:\n",
    "    l.append(len(instance[\"candidates\"]))\n",
    "\n",
    "c = Counter(l)\n",
    "print(c)\n",
    "\n",
    "plot_histogram(l)"
   ]
  },
  {
   "cell_type": "code",
   "execution_count": 5,
   "metadata": {},
   "outputs": [
    {
     "name": "stdout",
     "output_type": "stream",
     "text": [
      "Counter({'NOUN': 4300, 'VERB': 1652, 'ADJ': 955, 'ADV': 346})\n"
     ]
    }
   ],
   "source": [
    "# pos tags histogram\n",
    "\n",
    "# ambiguity cardinality of target words\n",
    "from collections import Counter\n",
    "\n",
    "l = []\n",
    "for instance in data:\n",
    "    l.append(instance[\"pos\"])\n",
    "\n",
    "c = Counter(l)\n",
    "print(c)"
   ]
  },
  {
   "cell_type": "code",
   "execution_count": 6,
   "metadata": {},
   "outputs": [
    {
     "data": {
      "text/plain": [
       "{'NOUN': tensor(4.7823, dtype=torch.float64),\n",
       " 'ADJ': tensor(4.0346, dtype=torch.float64),\n",
       " 'VERB': tensor(10.3777, dtype=torch.float64),\n",
       " 'ADV': tensor(3.0665, dtype=torch.float64)}"
      ]
     },
     "execution_count": 6,
     "metadata": {},
     "output_type": "execute_result"
    }
   ],
   "source": [
    "# I want to see if the scores on the different pos tags are correlated to their average cardinality candidates\n",
    "import torch\n",
    "\n",
    "ris = {}\n",
    "for pos in [\"NOUN\", \"ADJ\", \"VERB\", \"ADV\"]:\n",
    "    l = list(filter(lambda x: x[\"pos\"]==pos, data))\n",
    "    length_cand_list = []\n",
    "    for elem in l:\n",
    "        length_cand_list.append(len(elem[\"candidates\"]))\n",
    "    ris[pos] = torch.tensor(length_cand_list, dtype=float).mean()\n",
    "    \n",
    "ris"
   ]
  },
  {
   "cell_type": "markdown",
   "metadata": {},
   "source": [
    "## One- and few-shot analysis in WSD setting"
   ]
  },
  {
   "cell_type": "code",
   "execution_count": null,
   "metadata": {},
   "outputs": [],
   "source": [
    "# code to extrapolate the examples we want for the one/few-shot analysis\n",
    "import random\n",
    "\n",
    "l = []\n",
    "for instance in data:\n",
    "    candidates_dict = {c:i for i,c in enumerate(instance[\"candidates\"])}\n",
    "    if len(instance[\"candidates\"])==16 and candidates_dict[instance[\"gold\"][0]]!=0:\n",
    "        l.append(instance)\n",
    "print(len(l))\n",
    "        \n",
    "# one-shot\n",
    "select_instance = l[random.randint(0, len(l) - 1)]\n",
    "def2idx = {cand_def:i for i,cand_def in enumerate(select_instance[\"definitions\"])}\n",
    "word = select_instance[\"word\"]\n",
    "text = select_instance[\"text\"].replace(\" ,\", \",\").replace(\" .\", \".\")\n",
    "candidate_definitions = \"\\n\".join([f\"{idx}) {x}\" for idx, x in enumerate(select_instance[\"definitions\"])])\n",
    "idx = def2idx[select_instance['gold_definitions'][0]]\n",
    "gold_definition = f\"\"\"{idx}) {select_instance[\"gold_definitions\"][0]}.\"\"\"\n",
    "ris = f\"\"\"Question: select the most suitable meaning for \"{word}\" in the following sentence: {text}\\nChoose the corresponding definition among: \\n{candidate_definitions}. \\nAnswer by reporting the corresponding definition and do not motivate your answer. Answer: {gold_definition}\\n\\n\"\"\"\n",
    "print(repr(ris))\n",
    "\n",
    "# few-shot\n",
    "ris = \"\"\n",
    "for i in range(3):\n",
    "    select_instance = l[random.randint(0, len(l) - 1)]\n",
    "    def2idx = {cand_def:i for i,cand_def in enumerate(select_instance[\"definitions\"])}\n",
    "    word = select_instance[\"word\"]\n",
    "    text = select_instance[\"text\"].replace(\" ,\", \",\").replace(\" .\", \".\")\n",
    "    candidate_definitions = \"\\n\".join([f\"{idx}) {x}\" for idx, x in enumerate(select_instance[\"definitions\"])])\n",
    "    idx = def2idx[select_instance['gold_definitions'][0]]\n",
    "    gold_definition = f\"\"\"{idx}) {select_instance[\"gold_definitions\"][0]}.\"\"\"\n",
    "    \n",
    "    ris += f\"\"\"Question: select the most suitable meaning for \"{word}\" in the following sentence: {text}\\nChoose the corresponding definition among: \\n{candidate_definitions}. \\nAnswer by reporting the corresponding definition and do not motivate your answer. Answer: {gold_definition}\\n\\n\"\"\"\n",
    "print(repr(ris))\n"
   ]
  },
  {
   "cell_type": "code",
   "execution_count": null,
   "metadata": {},
   "outputs": [],
   "source": [
    "# list of instance keys for the first phase of exps\n",
    "\n",
    "ids_list = [\"semeval2013.d007.s006.t005\", \n",
    "\"senseval2.d000.s017.t011\", \n",
    "\"senseval3.d000.s113.t002\", \n",
    "\"senseval2.d001.s085.t001\", \n",
    "\"semeval2007.d001.s011.t001\", \n",
    "\"senseval2.d000.s006.t008\", \n",
    "\"senseval2.d000.s013.t000\", \n",
    "\"senseval2.d000.s061.t012\", \n",
    "\"senseval2.d000.s017.t002\", \n",
    "\"senseval2.d000.s062.t006\", \n",
    "\"senseval2.d000.s011.t003\", \n",
    "\"senseval2.d000.s012.t005\",\n",
    "\n",
    "[\"semeval2013.d007.s006.t005\", \"semeval2013.d005.s029.t000\", \"semeval2013.d009.s021.t001\"], \n",
    "\n",
    "[\"senseval2.d000.s017.t011\", \"senseval2.d002.s059.t001\", \"senseval3.d002.s034.t000\"], \n",
    "\n",
    "[\"senseval3.d000.s113.t002\", \"senseval2.d000.s063.t007\", \"semeval2007.d000.s009.t002\"], \n",
    "\n",
    "[\"senseval2.d001.s085.t001\", \"senseval2.d000.s005.t004\", \"senseval2.d002.s061.t012\"], \n",
    "\n",
    "[\"semeval2007.d001.s011.t001\", \"semeval2013.d005.s013.t001\", \"semeval2013.d008.s009.t004\"], \n",
    "\n",
    "[\"senseval2.d000.s006.t008\", \"senseval2.d000.s042.t002\", \"senseval3.d001.s042.t009\"], \n",
    "\n",
    "[\"senseval2.d000.s013.t000\", \"semeval2007.d000.s031.t004\", \"semeval2015.d000.s014.t005\"], \n",
    "\n",
    "[\"senseval2.d000.s061.t012\", \"senseval2.d001.s083.t003\", \"semeval2015.d001.s033.t004\"], \n",
    "\n",
    "[\"senseval2.d000.s017.t002\", \"senseval2.d000.s061.t017\", \"senseval3.d001.s028.t004\"], \n",
    "\n",
    "[\"senseval2.d000.s062.t006\", \"senseval2.d002.s003.t002\", \"senseval2.d002.s049.t007\"], \n",
    "\n",
    "[\"senseval2.d000.s011.t003\", \"senseval2.d000.s052.t002\", \"senseval3.d000.s051.t001\"], \n",
    "\n",
    "[\"senseval2.d000.s012.t005\", \"senseval2.d001.s041.t000\", \"semeval2015.d001.s046.t001\"] ]\n",
    "\n",
    "len(ids_list)"
   ]
  },
  {
   "cell_type": "code",
   "execution_count": null,
   "metadata": {},
   "outputs": [],
   "source": [
    "# code to generate prompts for the one/few-shot analysis\n",
    "\n",
    "for id_ in ids_list:\n",
    "    if type(id_) is not list:\n",
    "        for instance in data:\n",
    "            if instance[\"id\"] == id_:\n",
    "                def2idx = {cand_def:i for i,cand_def in enumerate(instance[\"definitions\"])}\n",
    "                word = instance[\"word\"]\n",
    "                text = instance[\"text\"].replace(\" ,\", \",\").replace(\" .\", \".\")\n",
    "                candidate_definitions = \"\\n\".join([f\"{idx}) {x}\" for idx, x in enumerate(instance[\"definitions\"])])\n",
    "                idx = def2idx[instance['gold_definitions'][0]]\n",
    "                gold_definition = f\"\"\"{idx}) {instance[\"gold_definitions\"][0]}.\"\"\"\n",
    "                \n",
    "                ris = f\"\"\"Question: select the most suitable meaning for \"{word}\" in the following sentence: {text}\\nChoose the corresponding definition among: \\n{candidate_definitions}. \\nAnswer by reporting the corresponding definition and do not motivate your answer. Answer: {gold_definition}\\n\\n\"\"\"\n",
    "                print(repr(ris))\n",
    "    else:\n",
    "        ris = \"\"\n",
    "        for id__ in id_:\n",
    "            for instance in data:\n",
    "                if instance[\"id\"] == id__:\n",
    "                    def2idx = {cand_def:i for i,cand_def in enumerate(instance[\"definitions\"])}\n",
    "                    word = instance[\"word\"]\n",
    "                    text = instance[\"text\"].replace(\" ,\", \",\").replace(\" .\", \".\")\n",
    "                    candidate_definitions = \"\\n\".join([f\"{idx}) {x}\" for idx, x in enumerate(instance[\"definitions\"])])\n",
    "                    idx = def2idx[instance['gold_definitions'][0]]\n",
    "                    gold_definition = f\"\"\"{idx}) {instance[\"gold_definitions\"][0]}.\"\"\"\n",
    "                    \n",
    "                    ris += f\"\"\"Question: select the most suitable meaning for \"{word}\" in the following sentence: {text}\\nChoose the corresponding definition among: \\n{candidate_definitions}. \\nAnswer by reporting the corresponding definition and do not motivate your answer. Answer: {gold_definition}\\n\\n\"\"\"\n",
    "        print(repr(ris))\n"
   ]
  },
  {
   "cell_type": "markdown",
   "metadata": {},
   "source": [
    "## Creating the dataset for finetuning WiC"
   ]
  },
  {
   "cell_type": "code",
   "execution_count": 4,
   "metadata": {},
   "outputs": [
    {
     "name": "stderr",
     "output_type": "stream",
     "text": [
      "100%|██████████| 8000/8000 [00:00<00:00, 409770.07it/s]\n"
     ]
    }
   ],
   "source": [
    "import json\n",
    "from tqdm import tqdm\n",
    "\n",
    "data_path = \"training.en-en.data\"\n",
    "gold_path = \"training.en-en.gold\"\n",
    "with open(data_path, \"r\") as fr:\n",
    "    data = json.load(fr)\n",
    "with open(gold_path, \"r\") as fr:\n",
    "    gold = json.load(fr)\n",
    "\n",
    "json_data = []\n",
    "with open(f\"training.json\", \"w\") as fw_json:\n",
    "    for instance_data, instance_gold in tqdm(zip(data, gold), total=len(gold)):\n",
    "        answer = \"False\" if  instance_gold[\"tag\"]==\"F\" else \"True\"\n",
    "        sentence1, sentence2 = instance_data[\"sentence1\"], instance_data[\"sentence2\"]\n",
    "        target_word1, target_word2 = sentence1[int(instance_data[\"start1\"]):int(instance_data[\"end1\"])], sentence2[int(instance_data[\"start2\"]):int(instance_data[\"end2\"])]\n",
    "        \n",
    "        prompt = \"\"\"Question: determine whether the target words, {target_word1} and {target_word2}, refer to the same meaning in the following sentences. First sentence: {sentence1} Second sentence: {sentence2} If the meaning expressed by the two target words is the same, answer with True. Instead, if the meaning is not the same, answer with False. Do not motivate your answer. Answer: {answer}.\"\"\".format(\n",
    "                target_word1=target_word1,\n",
    "                target_word2=target_word2,\n",
    "                sentence1=sentence1,\n",
    "                sentence2=sentence2,\n",
    "                answer=answer)\n",
    "        json_elem = {\"prompt\":prompt}\n",
    "        json_data.append(json_elem)\n",
    "    json.dump(json_data, fw_json, indent=4)\n",
    "            "
   ]
  },
  {
   "cell_type": "markdown",
   "metadata": {},
   "source": [
    "**New sentence embedder... it's actually a LLM. Is it better?**\n",
    "\n",
    "For the moment the problem is the memory it employs..."
   ]
  },
  {
   "cell_type": "code",
   "execution_count": 1,
   "metadata": {},
   "outputs": [
    {
     "name": "stderr",
     "output_type": "stream",
     "text": [
      "/home/lavallone/miniconda3/envs/sappia/lib/python3.10/site-packages/sentence_transformers/cross_encoder/CrossEncoder.py:11: TqdmExperimentalWarning: Using `tqdm.autonotebook.tqdm` in notebook mode. Use `tqdm.tqdm` instead to force console mode (e.g. in jupyter console)\n",
      "  from tqdm.autonotebook import tqdm, trange\n",
      "/home/lavallone/miniconda3/envs/sappia/lib/python3.10/site-packages/torchvision/io/image.py:13: UserWarning: Failed to load image Python extension: libtorch_cuda_cu.so: cannot open shared object file: No such file or directory\n",
      "  warn(f\"Failed to load image Python extension: {e}\")\n"
     ]
    },
    {
     "data": {
      "application/vnd.jupyter.widget-view+json": {
       "model_id": "d92abb5e065a40b89a4a2d3685d8383e",
       "version_major": 2,
       "version_minor": 0
      },
      "text/plain": [
       "model.safetensors.index.json:   0%|          | 0.00/22.2k [00:00<?, ?B/s]"
      ]
     },
     "metadata": {},
     "output_type": "display_data"
    },
    {
     "data": {
      "application/vnd.jupyter.widget-view+json": {
       "model_id": "54b0e950f6f74f52a246be6eba7a9d9c",
       "version_major": 2,
       "version_minor": 0
      },
      "text/plain": [
       "Downloading shards:   0%|          | 0/3 [00:00<?, ?it/s]"
      ]
     },
     "metadata": {},
     "output_type": "display_data"
    },
    {
     "data": {
      "application/vnd.jupyter.widget-view+json": {
       "model_id": "eac7280c260c4c5f8ed7703ba8064030",
       "version_major": 2,
       "version_minor": 0
      },
      "text/plain": [
       "model-00001-of-00003.safetensors:   0%|          | 0.00/4.94G [00:00<?, ?B/s]"
      ]
     },
     "metadata": {},
     "output_type": "display_data"
    },
    {
     "data": {
      "application/vnd.jupyter.widget-view+json": {
       "model_id": "0d1ca423bf694f8a8f10005874fa9269",
       "version_major": 2,
       "version_minor": 0
      },
      "text/plain": [
       "model-00002-of-00003.safetensors:   0%|          | 0.00/5.00G [00:00<?, ?B/s]"
      ]
     },
     "metadata": {},
     "output_type": "display_data"
    },
    {
     "name": "stderr",
     "output_type": "stream",
     "text": [
      "Error while downloading from https://cdn-lfs-us-1.huggingface.co/repos/32/65/3265610a542e455de4a8ae6370833d2f81c7533be4e7e971b6dc9fb56d6ef1ef/841e0ce0c37d7e05c7cdce5ab9b614ee2b38a5f4f860c245e614970aff627d40?response-content-disposition=inline%3B+filename*%3DUTF-8%27%27model-00002-of-00003.safetensors%3B+filename%3D%22model-00002-of-00003.safetensors%22%3B&Expires=1720358954&Policy=eyJTdGF0ZW1lbnQiOlt7IkNvbmRpdGlvbiI6eyJEYXRlTGVzc1RoYW4iOnsiQVdTOkVwb2NoVGltZSI6MTcyMDM1ODk1NH19LCJSZXNvdXJjZSI6Imh0dHBzOi8vY2RuLWxmcy11cy0xLmh1Z2dpbmdmYWNlLmNvL3JlcG9zLzMyLzY1LzMyNjU2MTBhNTQyZTQ1NWRlNGE4YWU2MzcwODMzZDJmODFjNzUzM2JlNGU3ZTk3MWI2ZGM5ZmI1NmQ2ZWYxZWYvODQxZTBjZTBjMzdkN2UwNWM3Y2RjZTVhYjliNjE0ZWUyYjM4YTVmNGY4NjBjMjQ1ZTYxNDk3MGFmZjYyN2Q0MD9yZXNwb25zZS1jb250ZW50LWRpc3Bvc2l0aW9uPSoifV19&Signature=nvXziMhdxbmRaadMdRF-z6Q0Nstxw%7EMm20JSzNq6ddOZViul%7EiEhiVsfleHob68CAaoEc2MwhrWmrhrkrIIEMb%7EWPEKuiZOhIi-5l-91z%7ERX8Ndv9MLJFGwKWJDyMoYnkyKQwUvXZ4leALoQtAN4uLBQojqQuaWT7ySspSaEwOT5LW70vQbqf86Ap-ph8cifYsMzI6VxIcvpJ0EGC4uzTV%7E9Sp-dC69WU2FDt443hqogmnrbB9ozlQy5hwMfO-WK8zRsinDsI2DAt9dpq8mWQN8oEzc8Uu%7Er9HTEz084iF7jla8e0cLA%7EX7-A-zSh0QrmvaLl2S0mWz1cf7B7PAeRA__&Key-Pair-Id=K24J24Z295AEI9: HTTPSConnectionPool(host='cdn-lfs-us-1.huggingface.co', port=443): Read timed out.\n",
      "Trying to resume download...\n"
     ]
    },
    {
     "data": {
      "application/vnd.jupyter.widget-view+json": {
       "model_id": "4663b613971749a487fc59cbd2b16804",
       "version_major": 2,
       "version_minor": 0
      },
      "text/plain": [
       "model-00002-of-00003.safetensors:   1%|          | 31.5M/5.00G [00:00<?, ?B/s]"
      ]
     },
     "metadata": {},
     "output_type": "display_data"
    },
    {
     "data": {
      "application/vnd.jupyter.widget-view+json": {
       "model_id": "c5cfc0821b55462799c92ecab577e8f8",
       "version_major": 2,
       "version_minor": 0
      },
      "text/plain": [
       "model-00003-of-00003.safetensors:   0%|          | 0.00/4.28G [00:00<?, ?B/s]"
      ]
     },
     "metadata": {},
     "output_type": "display_data"
    },
    {
     "data": {
      "application/vnd.jupyter.widget-view+json": {
       "model_id": "79bbaba778434aa98ea2ede68dcc72a2",
       "version_major": 2,
       "version_minor": 0
      },
      "text/plain": [
       "Loading checkpoint shards:   0%|          | 0/3 [00:00<?, ?it/s]"
      ]
     },
     "metadata": {},
     "output_type": "display_data"
    },
    {
     "data": {
      "application/vnd.jupyter.widget-view+json": {
       "model_id": "01e68fd257e142adba82dd21a74eb71d",
       "version_major": 2,
       "version_minor": 0
      },
      "text/plain": [
       "tokenizer_config.json:   0%|          | 0.00/981 [00:00<?, ?B/s]"
      ]
     },
     "metadata": {},
     "output_type": "display_data"
    },
    {
     "data": {
      "application/vnd.jupyter.widget-view+json": {
       "model_id": "82823fc373264f8cb689461cfbe92c21",
       "version_major": 2,
       "version_minor": 0
      },
      "text/plain": [
       "tokenizer.model:   0%|          | 0.00/493k [00:00<?, ?B/s]"
      ]
     },
     "metadata": {},
     "output_type": "display_data"
    },
    {
     "data": {
      "application/vnd.jupyter.widget-view+json": {
       "model_id": "e9086bcf670b46739e9621b13df3574f",
       "version_major": 2,
       "version_minor": 0
      },
      "text/plain": [
       "tokenizer.json:   0%|          | 0.00/1.80M [00:00<?, ?B/s]"
      ]
     },
     "metadata": {},
     "output_type": "display_data"
    },
    {
     "data": {
      "application/vnd.jupyter.widget-view+json": {
       "model_id": "3bb186d470b14c4aa31101d30b80811d",
       "version_major": 2,
       "version_minor": 0
      },
      "text/plain": [
       "special_tokens_map.json:   0%|          | 0.00/624 [00:00<?, ?B/s]"
      ]
     },
     "metadata": {},
     "output_type": "display_data"
    },
    {
     "data": {
      "application/vnd.jupyter.widget-view+json": {
       "model_id": "1dc39505c2594e949fe4e4dde73c2944",
       "version_major": 2,
       "version_minor": 0
      },
      "text/plain": [
       "1_Pooling/config.json:   0%|          | 0.00/271 [00:00<?, ?B/s]"
      ]
     },
     "metadata": {},
     "output_type": "display_data"
    },
    {
     "ename": "OutOfMemoryError",
     "evalue": "CUDA out of memory. Tried to allocate 224.00 MiB (GPU 0; 5.80 GiB total capacity; 5.52 GiB already allocated; 143.56 MiB free; 5.52 GiB reserved in total by PyTorch) If reserved memory is >> allocated memory try setting max_split_size_mb to avoid fragmentation.  See documentation for Memory Management and PYTORCH_CUDA_ALLOC_CONF",
     "output_type": "error",
     "traceback": [
      "\u001b[0;31m---------------------------------------------------------------------------\u001b[0m",
      "\u001b[0;31mOutOfMemoryError\u001b[0m                          Traceback (most recent call last)",
      "Cell \u001b[0;32mIn [1], line 3\u001b[0m\n\u001b[1;32m      1\u001b[0m \u001b[38;5;28;01mfrom\u001b[39;00m \u001b[38;5;21;01msentence_transformers\u001b[39;00m \u001b[38;5;28;01mimport\u001b[39;00m SentenceTransformer, util\n\u001b[0;32m----> 3\u001b[0m model \u001b[38;5;241m=\u001b[39m SentenceTransformer(\u001b[38;5;124m\"\u001b[39m\u001b[38;5;124mSalesforce/SFR-Embedding-Mistral\u001b[39m\u001b[38;5;124m\"\u001b[39m)\n\u001b[1;32m      5\u001b[0m \u001b[38;5;28;01mdef\u001b[39;00m \u001b[38;5;21mget_detailed_instruct\u001b[39m(task_description: \u001b[38;5;28mstr\u001b[39m, query: \u001b[38;5;28mstr\u001b[39m) \u001b[38;5;241m-\u001b[39m\u001b[38;5;241m>\u001b[39m \u001b[38;5;28mstr\u001b[39m:\n\u001b[1;32m      6\u001b[0m     \u001b[38;5;28;01mreturn\u001b[39;00m \u001b[38;5;124mf\u001b[39m\u001b[38;5;124m'\u001b[39m\u001b[38;5;124mInstruct: \u001b[39m\u001b[38;5;132;01m{\u001b[39;00mtask_description\u001b[38;5;132;01m}\u001b[39;00m\u001b[38;5;130;01m\\n\u001b[39;00m\u001b[38;5;124mQuery: \u001b[39m\u001b[38;5;132;01m{\u001b[39;00mquery\u001b[38;5;132;01m}\u001b[39;00m\u001b[38;5;124m'\u001b[39m\n",
      "File \u001b[0;32m~/miniconda3/envs/sappia/lib/python3.10/site-packages/sentence_transformers/SentenceTransformer.py:316\u001b[0m, in \u001b[0;36mSentenceTransformer.__init__\u001b[0;34m(self, model_name_or_path, modules, device, prompts, default_prompt_name, similarity_fn_name, cache_folder, trust_remote_code, revision, local_files_only, token, use_auth_token, truncate_dim, model_kwargs, tokenizer_kwargs, config_kwargs, model_card_data)\u001b[0m\n\u001b[1;32m    312\u001b[0m     modules \u001b[38;5;241m=\u001b[39m OrderedDict([(\u001b[38;5;28mstr\u001b[39m(idx), module) \u001b[38;5;28;01mfor\u001b[39;00m idx, module \u001b[38;5;129;01min\u001b[39;00m \u001b[38;5;28menumerate\u001b[39m(modules)])\n\u001b[1;32m    314\u001b[0m \u001b[38;5;28msuper\u001b[39m()\u001b[38;5;241m.\u001b[39m\u001b[38;5;21m__init__\u001b[39m(modules)\n\u001b[0;32m--> 316\u001b[0m \u001b[38;5;28;43mself\u001b[39;49m\u001b[38;5;241;43m.\u001b[39;49m\u001b[43mto\u001b[49m\u001b[43m(\u001b[49m\u001b[43mdevice\u001b[49m\u001b[43m)\u001b[49m\n\u001b[1;32m    317\u001b[0m \u001b[38;5;28mself\u001b[39m\u001b[38;5;241m.\u001b[39mis_hpu_graph_enabled \u001b[38;5;241m=\u001b[39m \u001b[38;5;28;01mFalse\u001b[39;00m\n\u001b[1;32m    319\u001b[0m \u001b[38;5;28;01mif\u001b[39;00m \u001b[38;5;28mself\u001b[39m\u001b[38;5;241m.\u001b[39mdefault_prompt_name \u001b[38;5;129;01mis\u001b[39;00m \u001b[38;5;129;01mnot\u001b[39;00m \u001b[38;5;28;01mNone\u001b[39;00m \u001b[38;5;129;01mand\u001b[39;00m \u001b[38;5;28mself\u001b[39m\u001b[38;5;241m.\u001b[39mdefault_prompt_name \u001b[38;5;129;01mnot\u001b[39;00m \u001b[38;5;129;01min\u001b[39;00m \u001b[38;5;28mself\u001b[39m\u001b[38;5;241m.\u001b[39mprompts:\n",
      "File \u001b[0;32m~/.local/lib/python3.10/site-packages/torch/nn/modules/module.py:1145\u001b[0m, in \u001b[0;36mModule.to\u001b[0;34m(self, *args, **kwargs)\u001b[0m\n\u001b[1;32m   1141\u001b[0m         \u001b[38;5;28;01mreturn\u001b[39;00m t\u001b[38;5;241m.\u001b[39mto(device, dtype \u001b[38;5;28;01mif\u001b[39;00m t\u001b[38;5;241m.\u001b[39mis_floating_point() \u001b[38;5;129;01mor\u001b[39;00m t\u001b[38;5;241m.\u001b[39mis_complex() \u001b[38;5;28;01melse\u001b[39;00m \u001b[38;5;28;01mNone\u001b[39;00m,\n\u001b[1;32m   1142\u001b[0m                     non_blocking, memory_format\u001b[38;5;241m=\u001b[39mconvert_to_format)\n\u001b[1;32m   1143\u001b[0m     \u001b[38;5;28;01mreturn\u001b[39;00m t\u001b[38;5;241m.\u001b[39mto(device, dtype \u001b[38;5;28;01mif\u001b[39;00m t\u001b[38;5;241m.\u001b[39mis_floating_point() \u001b[38;5;129;01mor\u001b[39;00m t\u001b[38;5;241m.\u001b[39mis_complex() \u001b[38;5;28;01melse\u001b[39;00m \u001b[38;5;28;01mNone\u001b[39;00m, non_blocking)\n\u001b[0;32m-> 1145\u001b[0m \u001b[38;5;28;01mreturn\u001b[39;00m \u001b[38;5;28;43mself\u001b[39;49m\u001b[38;5;241;43m.\u001b[39;49m\u001b[43m_apply\u001b[49m\u001b[43m(\u001b[49m\u001b[43mconvert\u001b[49m\u001b[43m)\u001b[49m\n",
      "File \u001b[0;32m~/.local/lib/python3.10/site-packages/torch/nn/modules/module.py:797\u001b[0m, in \u001b[0;36mModule._apply\u001b[0;34m(self, fn)\u001b[0m\n\u001b[1;32m    795\u001b[0m \u001b[38;5;28;01mdef\u001b[39;00m \u001b[38;5;21m_apply\u001b[39m(\u001b[38;5;28mself\u001b[39m, fn):\n\u001b[1;32m    796\u001b[0m     \u001b[38;5;28;01mfor\u001b[39;00m module \u001b[38;5;129;01min\u001b[39;00m \u001b[38;5;28mself\u001b[39m\u001b[38;5;241m.\u001b[39mchildren():\n\u001b[0;32m--> 797\u001b[0m         \u001b[43mmodule\u001b[49m\u001b[38;5;241;43m.\u001b[39;49m\u001b[43m_apply\u001b[49m\u001b[43m(\u001b[49m\u001b[43mfn\u001b[49m\u001b[43m)\u001b[49m\n\u001b[1;32m    799\u001b[0m     \u001b[38;5;28;01mdef\u001b[39;00m \u001b[38;5;21mcompute_should_use_set_data\u001b[39m(tensor, tensor_applied):\n\u001b[1;32m    800\u001b[0m         \u001b[38;5;28;01mif\u001b[39;00m torch\u001b[38;5;241m.\u001b[39m_has_compatible_shallow_copy_type(tensor, tensor_applied):\n\u001b[1;32m    801\u001b[0m             \u001b[38;5;66;03m# If the new tensor has compatible tensor type as the existing tensor,\u001b[39;00m\n\u001b[1;32m    802\u001b[0m             \u001b[38;5;66;03m# the current behavior is to change the tensor in-place using `.data =`,\u001b[39;00m\n\u001b[0;32m   (...)\u001b[0m\n\u001b[1;32m    807\u001b[0m             \u001b[38;5;66;03m# global flag to let the user control whether they want the future\u001b[39;00m\n\u001b[1;32m    808\u001b[0m             \u001b[38;5;66;03m# behavior of overwriting the existing tensor or not.\u001b[39;00m\n",
      "File \u001b[0;32m~/.local/lib/python3.10/site-packages/torch/nn/modules/module.py:797\u001b[0m, in \u001b[0;36mModule._apply\u001b[0;34m(self, fn)\u001b[0m\n\u001b[1;32m    795\u001b[0m \u001b[38;5;28;01mdef\u001b[39;00m \u001b[38;5;21m_apply\u001b[39m(\u001b[38;5;28mself\u001b[39m, fn):\n\u001b[1;32m    796\u001b[0m     \u001b[38;5;28;01mfor\u001b[39;00m module \u001b[38;5;129;01min\u001b[39;00m \u001b[38;5;28mself\u001b[39m\u001b[38;5;241m.\u001b[39mchildren():\n\u001b[0;32m--> 797\u001b[0m         \u001b[43mmodule\u001b[49m\u001b[38;5;241;43m.\u001b[39;49m\u001b[43m_apply\u001b[49m\u001b[43m(\u001b[49m\u001b[43mfn\u001b[49m\u001b[43m)\u001b[49m\n\u001b[1;32m    799\u001b[0m     \u001b[38;5;28;01mdef\u001b[39;00m \u001b[38;5;21mcompute_should_use_set_data\u001b[39m(tensor, tensor_applied):\n\u001b[1;32m    800\u001b[0m         \u001b[38;5;28;01mif\u001b[39;00m torch\u001b[38;5;241m.\u001b[39m_has_compatible_shallow_copy_type(tensor, tensor_applied):\n\u001b[1;32m    801\u001b[0m             \u001b[38;5;66;03m# If the new tensor has compatible tensor type as the existing tensor,\u001b[39;00m\n\u001b[1;32m    802\u001b[0m             \u001b[38;5;66;03m# the current behavior is to change the tensor in-place using `.data =`,\u001b[39;00m\n\u001b[0;32m   (...)\u001b[0m\n\u001b[1;32m    807\u001b[0m             \u001b[38;5;66;03m# global flag to let the user control whether they want the future\u001b[39;00m\n\u001b[1;32m    808\u001b[0m             \u001b[38;5;66;03m# behavior of overwriting the existing tensor or not.\u001b[39;00m\n",
      "    \u001b[0;31m[... skipping similar frames: Module._apply at line 797 (3 times)]\u001b[0m\n",
      "File \u001b[0;32m~/.local/lib/python3.10/site-packages/torch/nn/modules/module.py:797\u001b[0m, in \u001b[0;36mModule._apply\u001b[0;34m(self, fn)\u001b[0m\n\u001b[1;32m    795\u001b[0m \u001b[38;5;28;01mdef\u001b[39;00m \u001b[38;5;21m_apply\u001b[39m(\u001b[38;5;28mself\u001b[39m, fn):\n\u001b[1;32m    796\u001b[0m     \u001b[38;5;28;01mfor\u001b[39;00m module \u001b[38;5;129;01min\u001b[39;00m \u001b[38;5;28mself\u001b[39m\u001b[38;5;241m.\u001b[39mchildren():\n\u001b[0;32m--> 797\u001b[0m         \u001b[43mmodule\u001b[49m\u001b[38;5;241;43m.\u001b[39;49m\u001b[43m_apply\u001b[49m\u001b[43m(\u001b[49m\u001b[43mfn\u001b[49m\u001b[43m)\u001b[49m\n\u001b[1;32m    799\u001b[0m     \u001b[38;5;28;01mdef\u001b[39;00m \u001b[38;5;21mcompute_should_use_set_data\u001b[39m(tensor, tensor_applied):\n\u001b[1;32m    800\u001b[0m         \u001b[38;5;28;01mif\u001b[39;00m torch\u001b[38;5;241m.\u001b[39m_has_compatible_shallow_copy_type(tensor, tensor_applied):\n\u001b[1;32m    801\u001b[0m             \u001b[38;5;66;03m# If the new tensor has compatible tensor type as the existing tensor,\u001b[39;00m\n\u001b[1;32m    802\u001b[0m             \u001b[38;5;66;03m# the current behavior is to change the tensor in-place using `.data =`,\u001b[39;00m\n\u001b[0;32m   (...)\u001b[0m\n\u001b[1;32m    807\u001b[0m             \u001b[38;5;66;03m# global flag to let the user control whether they want the future\u001b[39;00m\n\u001b[1;32m    808\u001b[0m             \u001b[38;5;66;03m# behavior of overwriting the existing tensor or not.\u001b[39;00m\n",
      "File \u001b[0;32m~/.local/lib/python3.10/site-packages/torch/nn/modules/module.py:820\u001b[0m, in \u001b[0;36mModule._apply\u001b[0;34m(self, fn)\u001b[0m\n\u001b[1;32m    816\u001b[0m \u001b[38;5;66;03m# Tensors stored in modules are graph leaves, and we don't want to\u001b[39;00m\n\u001b[1;32m    817\u001b[0m \u001b[38;5;66;03m# track autograd history of `param_applied`, so we have to use\u001b[39;00m\n\u001b[1;32m    818\u001b[0m \u001b[38;5;66;03m# `with torch.no_grad():`\u001b[39;00m\n\u001b[1;32m    819\u001b[0m \u001b[38;5;28;01mwith\u001b[39;00m torch\u001b[38;5;241m.\u001b[39mno_grad():\n\u001b[0;32m--> 820\u001b[0m     param_applied \u001b[38;5;241m=\u001b[39m \u001b[43mfn\u001b[49m\u001b[43m(\u001b[49m\u001b[43mparam\u001b[49m\u001b[43m)\u001b[49m\n\u001b[1;32m    821\u001b[0m should_use_set_data \u001b[38;5;241m=\u001b[39m compute_should_use_set_data(param, param_applied)\n\u001b[1;32m    822\u001b[0m \u001b[38;5;28;01mif\u001b[39;00m should_use_set_data:\n",
      "File \u001b[0;32m~/.local/lib/python3.10/site-packages/torch/nn/modules/module.py:1143\u001b[0m, in \u001b[0;36mModule.to.<locals>.convert\u001b[0;34m(t)\u001b[0m\n\u001b[1;32m   1140\u001b[0m \u001b[38;5;28;01mif\u001b[39;00m convert_to_format \u001b[38;5;129;01mis\u001b[39;00m \u001b[38;5;129;01mnot\u001b[39;00m \u001b[38;5;28;01mNone\u001b[39;00m \u001b[38;5;129;01mand\u001b[39;00m t\u001b[38;5;241m.\u001b[39mdim() \u001b[38;5;129;01min\u001b[39;00m (\u001b[38;5;241m4\u001b[39m, \u001b[38;5;241m5\u001b[39m):\n\u001b[1;32m   1141\u001b[0m     \u001b[38;5;28;01mreturn\u001b[39;00m t\u001b[38;5;241m.\u001b[39mto(device, dtype \u001b[38;5;28;01mif\u001b[39;00m t\u001b[38;5;241m.\u001b[39mis_floating_point() \u001b[38;5;129;01mor\u001b[39;00m t\u001b[38;5;241m.\u001b[39mis_complex() \u001b[38;5;28;01melse\u001b[39;00m \u001b[38;5;28;01mNone\u001b[39;00m,\n\u001b[1;32m   1142\u001b[0m                 non_blocking, memory_format\u001b[38;5;241m=\u001b[39mconvert_to_format)\n\u001b[0;32m-> 1143\u001b[0m \u001b[38;5;28;01mreturn\u001b[39;00m \u001b[43mt\u001b[49m\u001b[38;5;241;43m.\u001b[39;49m\u001b[43mto\u001b[49m\u001b[43m(\u001b[49m\u001b[43mdevice\u001b[49m\u001b[43m,\u001b[49m\u001b[43m \u001b[49m\u001b[43mdtype\u001b[49m\u001b[43m \u001b[49m\u001b[38;5;28;43;01mif\u001b[39;49;00m\u001b[43m \u001b[49m\u001b[43mt\u001b[49m\u001b[38;5;241;43m.\u001b[39;49m\u001b[43mis_floating_point\u001b[49m\u001b[43m(\u001b[49m\u001b[43m)\u001b[49m\u001b[43m \u001b[49m\u001b[38;5;129;43;01mor\u001b[39;49;00m\u001b[43m \u001b[49m\u001b[43mt\u001b[49m\u001b[38;5;241;43m.\u001b[39;49m\u001b[43mis_complex\u001b[49m\u001b[43m(\u001b[49m\u001b[43m)\u001b[49m\u001b[43m \u001b[49m\u001b[38;5;28;43;01melse\u001b[39;49;00m\u001b[43m \u001b[49m\u001b[38;5;28;43;01mNone\u001b[39;49;00m\u001b[43m,\u001b[49m\u001b[43m \u001b[49m\u001b[43mnon_blocking\u001b[49m\u001b[43m)\u001b[49m\n",
      "\u001b[0;31mOutOfMemoryError\u001b[0m: CUDA out of memory. Tried to allocate 224.00 MiB (GPU 0; 5.80 GiB total capacity; 5.52 GiB already allocated; 143.56 MiB free; 5.52 GiB reserved in total by PyTorch) If reserved memory is >> allocated memory try setting max_split_size_mb to avoid fragmentation.  See documentation for Memory Management and PYTORCH_CUDA_ALLOC_CONF"
     ]
    }
   ],
   "source": [
    "\n",
    "from sentence_transformers import SentenceTransformer, util\n",
    "\n",
    "model = SentenceTransformer(\"Salesforce/SFR-Embedding-Mistral\")\n",
    "\n",
    "def get_detailed_instruct(task_description: str, query: str) -> str:\n",
    "    return f'Instruct: {task_description}\\nQuery: {query}'\n",
    "\n",
    "# each query must come with a one-sentence instruction that describes the task\n",
    "#task = 'Given a web search query, retrieve relevant passages that answer the query'\n",
    "task = \"Given a sense definition query, retrieve the most similar sense to that query\"\n",
    "\n",
    "#senseval3.d001.s034.t002\n",
    "generated_answer = \"To discover or ascertain by research or study.Solution: In the given sentence, \\\"find\\\" means\"\n",
    "queries = [ f\"Instruct: {task}\\nQuery: {generated_answer}\"]\n",
    "\n",
    "candidate_definitions = [\n",
    "        \"come upon, as if by accident; meet with\",\n",
    "        \"discover or determine the existence, presence, or fact of\",\n",
    "        \"come upon after searching; find the location of something that was missed or lost\",\n",
    "        \"establish after a calculation, investigation, experiment, survey, or study\",\n",
    "        \"come to believe on the basis of emotion, intuitions, or indefinite grounds\",\n",
    "        \"perceive or be contemporaneous with\",\n",
    "        \"get something or somebody for a specific purpose\",\n",
    "        \"make a discovery, make a new finding\",\n",
    "        \"make a discovery\",\n",
    "        \"obtain through effort or management\",\n",
    "        \"decide on and make a declaration about\",\n",
    "        \"receive a specified treatment (abstract)\",\n",
    "        \"perceive oneself to be in a certain condition or place\",\n",
    "        \"get or find back; recover the use of\",\n",
    "        \"succeed in reaching; arrive at\",\n",
    "        \"accept and make use of one's personality, abilities, and situation\"\n",
    "]\n",
    "\n",
    "gold_definition = \"establish after a calculation, investigation, experiment, survey, or study\"\n",
    "\n",
    "\n",
    "embeddings = model.encode(queries + candidate_definitions)\n",
    "scores = util.cos_sim(embeddings[:2], embeddings[2:]) * 100\n",
    "print(scores.tolist())\n",
    "# [[86.71537780761719, 36.645721435546875], [35.00497055053711, 82.07388305664062]]\n"
   ]
  },
  {
   "cell_type": "code",
   "execution_count": 3,
   "metadata": {},
   "outputs": [
    {
     "name": "stdout",
     "output_type": "stream",
     "text": [
      "Requirement already satisfied: transformers in /home/lavallone/miniconda3/envs/sappia/lib/python3.10/site-packages (4.42.3)\n",
      "Requirement already satisfied: tokenizers in /home/lavallone/miniconda3/envs/sappia/lib/python3.10/site-packages (0.19.1)\n",
      "Requirement already satisfied: regex!=2019.12.17 in /home/lavallone/.local/lib/python3.10/site-packages (from transformers) (2023.8.8)\n",
      "Requirement already satisfied: safetensors>=0.4.1 in /home/lavallone/miniconda3/envs/sappia/lib/python3.10/site-packages (from transformers) (0.4.3)\n",
      "Requirement already satisfied: pyyaml>=5.1 in /home/lavallone/miniconda3/envs/sappia/lib/python3.10/site-packages (from transformers) (6.0)\n",
      "Requirement already satisfied: requests in /home/lavallone/miniconda3/envs/sappia/lib/python3.10/site-packages (from transformers) (2.28.1)\n",
      "Requirement already satisfied: numpy<2.0,>=1.17 in /home/lavallone/miniconda3/envs/sappia/lib/python3.10/site-packages (from transformers) (1.25.2)\n",
      "Requirement already satisfied: filelock in /home/lavallone/.local/lib/python3.10/site-packages (from transformers) (3.12.4)\n",
      "Requirement already satisfied: tqdm>=4.27 in /home/lavallone/.local/lib/python3.10/site-packages (from transformers) (4.66.1)\n",
      "Requirement already satisfied: huggingface-hub<1.0,>=0.23.2 in /home/lavallone/miniconda3/envs/sappia/lib/python3.10/site-packages (from transformers) (0.23.4)\n",
      "Requirement already satisfied: packaging>=20.0 in /home/lavallone/.local/lib/python3.10/site-packages (from transformers) (23.2)\n",
      "Requirement already satisfied: fsspec>=2023.5.0 in /home/lavallone/.local/lib/python3.10/site-packages (from huggingface-hub<1.0,>=0.23.2->transformers) (2023.6.0)\n",
      "Requirement already satisfied: typing-extensions>=3.7.4.3 in /home/lavallone/.local/lib/python3.10/site-packages (from huggingface-hub<1.0,>=0.23.2->transformers) (4.8.0)\n",
      "Requirement already satisfied: certifi>=2017.4.17 in /home/lavallone/miniconda3/envs/sappia/lib/python3.10/site-packages (from requests->transformers) (2022.12.7)\n",
      "Requirement already satisfied: urllib3<1.27,>=1.21.1 in /home/lavallone/miniconda3/envs/sappia/lib/python3.10/site-packages (from requests->transformers) (1.26.11)\n",
      "Requirement already satisfied: idna<4,>=2.5 in /home/lavallone/miniconda3/envs/sappia/lib/python3.10/site-packages (from requests->transformers) (2.10)\n",
      "Requirement already satisfied: charset-normalizer<3,>=2 in /home/lavallone/miniconda3/envs/sappia/lib/python3.10/site-packages (from requests->transformers) (2.1.1)\n"
     ]
    }
   ],
   "source": [
    "!pip install --upgrade transformers tokenizers\n",
    "\n",
    "\n"
   ]
  },
  {
   "cell_type": "code",
   "execution_count": 4,
   "metadata": {},
   "outputs": [
    {
     "name": "stdout",
     "output_type": "stream",
     "text": [
      "Name: transformers\n",
      "Version: 4.42.3\n",
      "Summary: State-of-the-art Machine Learning for JAX, PyTorch and TensorFlow\n",
      "Home-page: https://github.com/huggingface/transformers\n",
      "Author: The Hugging Face team (past and future) with the help of all our contributors (https://github.com/huggingface/transformers/graphs/contributors)\n",
      "Author-email: transformers@huggingface.co\n",
      "License: Apache 2.0 License\n",
      "Location: /home/lavallone/miniconda3/envs/sappia/lib/python3.10/site-packages\n",
      "Requires: filelock, huggingface-hub, numpy, packaging, pyyaml, regex, requests, safetensors, tokenizers, tqdm\n",
      "Required-by: booknlp, peft, sentence-transformers\n",
      "---\n",
      "Name: tokenizers\n",
      "Version: 0.19.1\n",
      "Summary: \n",
      "Home-page: \n",
      "Author: Anthony MOI <m.anthony.moi@gmail.com>\n",
      "Author-email: Nicolas Patry <patry.nicolas@protonmail.com>, Anthony Moi <anthony@huggingface.co>\n",
      "License: \n",
      "Location: /home/lavallone/miniconda3/envs/sappia/lib/python3.10/site-packages\n",
      "Requires: huggingface-hub\n",
      "Required-by: transformers\n"
     ]
    }
   ],
   "source": [
    "!pip show transformers tokenizers"
   ]
  },
  {
   "cell_type": "code",
   "execution_count": 85,
   "metadata": {},
   "outputs": [
    {
     "name": "stdout",
     "output_type": "stream",
     "text": [
      "Question: select the most suitable meaning for \"down\" in the following sentence: Shuts the program down.\n",
      "Choose the corresponding definition among: \n",
      "0) spatially or metaphorically from a higher to a lower level or position\n",
      "1) away from a more central or a more northerly place\n",
      "2) paid in cash at time of purchase\n",
      "3) from an earlier time\n",
      "4) to a lower intensity\n",
      "5) in an inactive or inoperative state. \n",
      "Answer by reporting the corresponding definition and do not motivate your answer. Answer: 5) in an inactive or inoperative state.\n",
      "\n",
      "Question: select the most suitable meaning for \"table\" in the following sentence: I felt the temblor begin and glanced at the table next to mine, smiled that guilty smile and we both mouthed the words, `` Earth-quake ! `` together.\n",
      "Choose the corresponding definition among: \n",
      "0) a set of data arranged in rows and columns\n",
      "1) a piece of furniture having a smooth flat top that is usually supported by one or more vertical legs\n",
      "2) a piece of furniture with tableware for a meal laid out on it\n",
      "3) flat tableland with steep edges\n",
      "4) a company of people assembled at a table for a meal or game\n",
      "5) food or meals in general. \n",
      "Answer by reporting the corresponding definition and do not motivate your answer. Answer: 4) a company of people assembled at a table for a meal or game.\n",
      "\n",
      "Question: select the most suitable meaning for \"realize\" in the following sentence: If we want to understand how it works, the best thing we can do is to realize that our input is being converted into MathML although it is not necessary to know MathML.\n",
      "Choose the corresponding definition among: \n",
      "0) be fully aware or cognizant of\n",
      "1) perceive (an idea or situation) mentally\n",
      "2) make real or concrete; give reality or substance to\n",
      "3) earn on some commercial or business transaction; earn as salary or wages\n",
      "4) convert into cash; of goods and property\n",
      "5) expand or complete (a part in a piece of baroque music) by supplying the harmonies indicated in the figured bass. \n",
      "Answer by reporting the corresponding definition and do not motivate your answer. Answer: 1) perceive (an idea or situation) mentally.\n",
      "\n",
      "Question: select the most suitable meaning for '{word}' in the following sentence: {text}\n",
      "Choose the corresponding definition among: \n",
      "{candidate_definitions}.\n",
      "Answer by reporting the corresponding definition and do not motivate your answer. \n",
      "Answer: \n"
     ]
    }
   ],
   "source": [
    "s = \"\"\"Question: select the most suitable meaning for \"down\" in the following sentence: Shuts the program down.\\nChoose the corresponding definition among: \\n0) spatially or metaphorically from a higher to a lower level or position\\n1) away from a more central or a more northerly place\\n2) paid in cash at time of purchase\\n3) from an earlier time\\n4) to a lower intensity\\n5) in an inactive or inoperative state. \\nAnswer by reporting the corresponding definition and do not motivate your answer. Answer: 5) in an inactive or inoperative state.\\n\\nQuestion: select the most suitable meaning for \"table\" in the following sentence: I felt the temblor begin and glanced at the table next to mine, smiled that guilty smile and we both mouthed the words, `` Earth-quake ! `` together.\\nChoose the corresponding definition among: \\n0) a set of data arranged in rows and columns\\n1) a piece of furniture having a smooth flat top that is usually supported by one or more vertical legs\\n2) a piece of furniture with tableware for a meal laid out on it\\n3) flat tableland with steep edges\\n4) a company of people assembled at a table for a meal or game\\n5) food or meals in general. \\nAnswer by reporting the corresponding definition and do not motivate your answer. Answer: 4) a company of people assembled at a table for a meal or game.\\n\\nQuestion: select the most suitable meaning for \"realize\" in the following sentence: If we want to understand how it works, the best thing we can do is to realize that our input is being converted into MathML although it is not necessary to know MathML.\\nChoose the corresponding definition among: \\n0) be fully aware or cognizant of\\n1) perceive (an idea or situation) mentally\\n2) make real or concrete; give reality or substance to\\n3) earn on some commercial or business transaction; earn as salary or wages\\n4) convert into cash; of goods and property\\n5) expand or complete (a part in a piece of baroque music) by supplying the harmonies indicated in the figured bass. \\nAnswer by reporting the corresponding definition and do not motivate your answer. Answer: 1) perceive (an idea or situation) mentally.\\n\\nQuestion: select the most suitable meaning for '{word}' in the following sentence: {text}\\nChoose the corresponding definition among: \\n{candidate_definitions}.\\nAnswer by reporting the corresponding definition and do not motivate your answer. \\nAnswer: \"\"\"\n",
    "print(s)"
   ]
  },
  {
   "cell_type": "code",
   "execution_count": 86,
   "metadata": {},
   "outputs": [
    {
     "name": "stdout",
     "output_type": "stream",
     "text": [
      "Question: select the most suitable meaning for \"down\" in the following sentence: Shuts the program down.\n",
      "Choose the corresponding definition among: \n",
      "1) spatially or metaphorically from a higher to a lower level or position\n",
      "2) away from a more central or a more northerly place\n",
      "3) paid in cash at time of purchase\n",
      "4) from an earlier time\n",
      "5) to a lower intensity\n",
      "6) in an inactive or inoperative state. \n",
      "Answer by reporting the corresponding definition and do not motivate your answer. Answer: 6) in an inactive or inoperative state.\n",
      "\n",
      "Question: select the most suitable meaning for \"table\" in the following sentence: I felt the temblor begin and glanced at the table next to mine, smiled that guilty smile and we both mouthed the words, `` Earth-quake ! `` together.\n",
      "Choose the corresponding definition among: \n",
      "1) a set of data arranged in rows and columns\n",
      "2) a piece of furniture having a smooth flat top that is usually supported by one or more vertical legs\n",
      "3) a piece of furniture with tableware for a meal laid out on it\n",
      "4) flat tableland with steep edges\n",
      "5) a company of people assembled at a table for a meal or game\n",
      "6) food or meals in general. \n",
      "Answer by reporting the corresponding definition and do not motivate your answer. Answer: 5) a company of people assembled at a table for a meal or game.\n",
      "\n",
      "Question: select the most suitable meaning for \"realize\" in the following sentence: If we want to understand how it works, the best thing we can do is to realize that our input is being converted into MathML although it is not necessary to know MathML.\n",
      "Choose the corresponding definition among: \n",
      "1) be fully aware or cognizant of\n",
      "2) perceive (an idea or situation) mentally\n",
      "3) make real or concrete; give reality or substance to\n",
      "4) earn on some commercial or business transaction; earn as salary or wages\n",
      "5) convert into cash; of goods and property\n",
      "6) expand or complete (a part in a piece of baroque music) by supplying the harmonies indicated in the figured bass. \n",
      "Answer by reporting the corresponding definition and do not motivate your answer. Answer: 2) perceive (an idea or situation) mentally.\n",
      "\n",
      "Question: select the most suitable meaning for '{word}' in the following sentence: {text}\n",
      "Choose the corresponding definition among: \n",
      "{candidate_definitions}.\n",
      "Answer by reporting the corresponding definition and do not motivate your answer. \n",
      "Answer: \n"
     ]
    }
   ],
   "source": [
    "import re\n",
    "\n",
    "def increment_numbers_before_parenthesis(text):\n",
    "    def increment_match(match):\n",
    "        number = int(match.group(1))\n",
    "        return f\"{number + 1})\"\n",
    "    \n",
    "    # Regex pattern to find numbers followed by a closing parenthesis\n",
    "    pattern = re.compile(r'(\\d+)\\)')\n",
    "    \n",
    "    # Substitute each match using the increment_match function\n",
    "    updated_text = pattern.sub(increment_match, text)\n",
    "    \n",
    "    return updated_text\n",
    "\n",
    "s = increment_numbers_before_parenthesis(s)\n",
    "print(s)"
   ]
  },
  {
   "cell_type": "code",
   "execution_count": 89,
   "metadata": {},
   "outputs": [
    {
     "data": {
      "text/plain": [
       "'Question: select the most suitable meaning for \"realize\" in the following sentence: If we want to understand how it works, the best thing we can do is to realize that our input is being converted into MathML although it is not necessary to know MathML.\\nChoose the corresponding definition among: \\n1) be fully aware or cognizant of\\n2) perceive (an idea or situation) mentally\\n3) make real or concrete; give reality or substance to\\n4) earn on some commercial or business transaction; earn as salary or wages\\n5) convert into cash; of goods and property\\n6) expand or complete (a part in a piece of baroque music) by supplying the harmonies indicated in the figured bass. \\nAnswer by reporting the corresponding definition and do not motivate your answer. Answer:'"
      ]
     },
     "execution_count": 89,
     "metadata": {},
     "output_type": "execute_result"
    }
   ],
   "source": [
    "r\"\"\"Question: select the most suitable meaning for \"realize\" in the following sentence: If we want to understand how it works, the best thing we can do is to realize that our input is being converted into MathML although it is not necessary to know MathML.\n",
    "Choose the corresponding definition among: \n",
    "1) be fully aware or cognizant of\n",
    "2) perceive (an idea or situation) mentally\n",
    "3) make real or concrete; give reality or substance to\n",
    "4) earn on some commercial or business transaction; earn as salary or wages\n",
    "5) convert into cash; of goods and property\n",
    "6) expand or complete (a part in a piece of baroque music) by supplying the harmonies indicated in the figured bass. \n",
    "Answer by reporting the corresponding definition and do not motivate your answer. Answer:\"\"\""
   ]
  },
  {
   "cell_type": "code",
   "execution_count": 91,
   "metadata": {},
   "outputs": [],
   "source": [
    "prompts = {\"ambiguity_analysis\":{\n",
    "                                \"1_candidate\":{\n",
    "                                        \"mfs\":{\n",
    "                                                \"one_shot\":\"\"\"Question: select the most suitable meaning for \"matters\" in the following sentence: Since local benefit-seeking matters more and national policy making matters less in the lower chamber of Congress, this is precisely the pattern one would expect if Republicans are less willing to engage in local benefit-seeking than their Democratic counterparts.\\nChoose the corresponding definition among: \\n0) have weight; have import, carry weight. \\nAnswer by reporting the corresponding definition and do not motivate your answer. Answer: 0) have weight; have import, carry weight.\\n\\nQuestion: select the most suitable meaning for '{word}' in the following sentence: {text}\\nChoose the corresponding definition among: \\n{candidate_definitions}.\\nAnswer by reporting the corresponding definition and do not motivate your answer. \\nAnswer: \"\"\",\n",
    "                                                \"few_shot\":\"\"\"Question: select the most suitable meaning for \"beheld\" in the following sentence: He looked up with bloodshot eyes and beheld the stranger sitting across the table, smiling a secret smile at him, as if they were fellow conspirators.\\nChoose the corresponding definition among: \\n0) see with attention. \\nAnswer by reporting the corresponding definition and do not motivate your answer. Answer: 0) see with attention.\\n\\nQuestion: select the most suitable meaning for \"somebody\" in the following sentence: I \\'ll do anything for somebody I like.\\nChoose the corresponding definition among: \\n0) a human being. \\nAnswer by reporting the corresponding definition and do not motivate your answer. Answer: 0) a human being.\\n\\nQuestion: select the most suitable meaning for \"Summary\" in the following sentence: For more information, see the Summary of Product Characteristics ( also part of the EPAR ).\\nChoose the corresponding definition among: \\n0) a brief statement that presents the main points in a concise form. \\nAnswer by reporting the corresponding definition and do not motivate your answer. Answer: 0) a brief statement that presents the main points in a concise form.\\n\\nQuestion: select the most suitable meaning for '{word}' in the following sentence: {text}\\nChoose the corresponding definition among: \\n{candidate_definitions}.\\nAnswer by reporting the corresponding definition and do not motivate your answer. \\nAnswer: \"\"\",\n",
    "                                                },\n",
    "                                        },\n",
    "                                \"3_candidates\":{\n",
    "                                        \"mfs\":{\n",
    "                                                \"one_shot\":\"\"\"Question: select the most suitable meaning for \"based\" in the following sentence: kalgebra is a MathML based graph calculator.\\nChoose the corresponding definition among: \\n0) use as a basis for; found on\\n1) situate as a center of operations\\n2) use (purified cocaine) by burning it and inhaling the fumes. \\nAnswer by reporting the corresponding definition and do not motivate your answer. Answer: 0) use as a basis for; found on.\\n\\nQuestion: select the most suitable meaning for '{word}' in the following sentence: {text}\\nChoose the corresponding definition among: \\n{candidate_definitions}.\\nAnswer by reporting the corresponding definition and do not motivate your answer. \\nAnswer: \"\"\",\n",
    "                                                \"few_shot\":\"\"\"Question: select the most suitable meaning for \"often\" in the following sentence: He believed colon cancer might also arise from multiple `` hits `` on cancer suppressor genes, because it often seems to develop in stages.\\nChoose the corresponding definition among: \\n0) many times at short intervals\\n1) frequently or in great quantities\\n2) in many cases or instances. \\nAnswer by reporting the corresponding definition and do not motivate your answer. Answer: 0) many times at short intervals.\\n\\nQuestion: select the most suitable meaning for \"available\" in the following sentence: Cerenia contains the active substance maropitant and is available as tablet or as solution for injection.\\nChoose the corresponding definition among: \\n0) obtainable or accessible and ready for use or service\\n1) not busy; not otherwise committed\\n2) convenient for use or disposal. \\nAnswer by reporting the corresponding definition and do not motivate your answer. Answer: 0) obtainable or accessible and ready for use or service.\\n\\nQuestion: select the most suitable meaning for \"based\" in the following sentence: The study is based on 195 personal interviews with senior officials of the social partners as representatives of national level peak organisations in fifteen European countries.\\nChoose the corresponding definition among: \\n0) use as a basis for; found on\\n1) situate as a center of operations\\n2) use (purified cocaine) by burning it and inhaling the fumes. \\nAnswer by reporting the corresponding definition and do not motivate your answer. Answer: 0) use as a basis for; found on.\\n\\nQuestion: select the most suitable meaning for '{word}' in the following sentence: {text}\\nChoose the corresponding definition among: \\n{candidate_definitions}.\\nAnswer by reporting the corresponding definition and do not motivate your answer. \\nAnswer: \"\"\",\n",
    "                                                },\n",
    "                                        \"not_mfs\":{\n",
    "                                                \"one_shot\":\"\"\"Question: select the most suitable meaning for \"will\" in the following sentence: Tricks such as those of Alonso and Ramos before the Ajax demonstrate wittiness but not the will to get remove of a sanction.\\nChoose the corresponding definition among: \\n0) the capability of conscious choice and decision and intention; - George Meredith\\n1) a fixed and persistent intent or purpose\\n2) a legal document declaring a person\\'s wishes regarding the disposal of their property when they die. \\nAnswer by reporting the corresponding definition and do not motivate your answer. Answer: 1) a fixed and persistent intent or purpose.\\n\\nQuestion: select the most suitable meaning for '{word}' in the following sentence: {text}\\nChoose the corresponding definition among: \\n{candidate_definitions}.\\nAnswer by reporting the corresponding definition and do not motivate your answer. \\nAnswer: \"\"\",\n",
    "                                                \"few_shot\":\"\"\"Question: select the most suitable meaning for \"exit\" in the following sentence: Maybe it would be better to humor the guy and then make an exit.\\nChoose the corresponding definition among: \\n0) an opening that permits escape or release\\n1) euphemistic expressions for death\\n2) the act of going out. \\nAnswer by reporting the corresponding definition and do not motivate your answer. Answer: 2) the act of going out.\\n\\nQuestion: select the most suitable meaning for \"romantic\" in the following sentence: It is not surprising that parents find this romantic extravagance so attractive.\\nChoose the corresponding definition among: \\n0) belonging to or characteristic of Romanticism or the Romantic Movement in the arts\\n1) expressive of or exciting sexual love or romance\\n2) not sensible about practical matters; idealistic and unrealistic. \\nAnswer by reporting the corresponding definition and do not motivate your answer. Answer: 2) not sensible about practical matters; idealistic and unrealistic.\\n\\nQuestion: select the most suitable meaning for \"past\" in the following sentence: Alimta is used in combination with cisplatin in patients who have not been treated before, and on its own in patients who have received another type of chemotherapy in the past.\\nChoose the corresponding definition among: \\n0) the time that has elapsed\\n1) a earlier period in someone\\'s life (especially one that they have reason to keep secret)\\n2) a verb tense that expresses actions or states in the past. \\nAnswer by reporting the corresponding definition and do not motivate your answer. Answer: 1) a earlier period in someone\\'s life (especially one that they have reason to keep secret).\\n\\nQuestion: select the most suitable meaning for '{word}' in the following sentence: {text}\\nChoose the corresponding definition among: \\n{candidate_definitions}.\\nAnswer by reporting the corresponding definition and do not motivate your answer. \\nAnswer: \"\"\",\n",
    "                                                },\n",
    "                                        },\n",
    "                                \"6_candidates\":{\n",
    "                                        \"mfs\":{\n",
    "                                                \"one_shot\":\"\"\"Question: select the most suitable meaning for \"social\" in the following sentence: The Foundation organised, together with the European Commission, the Spanish Ministry of Social Affairs and the Galician regional government, a European conference on social exclusion : a major challenge for public welfare services.\\nChoose the corresponding definition among: \\n0) relating to human society and its members\\n1) living together or enjoying life in communities or organized groups\\n2) relating to or belonging to or characteristic of high society\\n3) composed of sociable people or formed for the purpose of sociability\\n4) tending to move or live together in groups or colonies of the same kind\\n5) marked by friendly companionship with others. \\nAnswer by reporting the corresponding definition and do not motivate your answer. Answer: 0) relating to human society and its members.\\n\\nQuestion: select the most suitable meaning for '{word}' in the following sentence: {text}\\nChoose the corresponding definition among: \\n{candidate_definitions}.\\nAnswer by reporting the corresponding definition and do not motivate your answer. \\nAnswer: \"\"\",\n",
    "                                                \"few_shot\":\"\"\"Question: select the most suitable meaning for \"opinion\" in the following sentence: The result is a generation of young people whose ignorance and intellectual incompetence is matched only by their good opinion of themselves.\\nChoose the corresponding definition among: \\n0) a personal belief or judgment that is not founded on proof or certainty\\n1) a message expressing a belief about something; the expression of a belief that is held with confidence but not substantiated by positive knowledge or proof\\n2) a belief or sentiment shared by most people; the voice of the people\\n3) the legal document stating the reasons for a judicial decision\\n4) the reason for a court\\'s judgment (as opposed to the decision itself)\\n5) a vague idea in which some confidence is placed. \\nAnswer by reporting the corresponding definition and do not motivate your answer. Answer: 0) a personal belief or judgment that is not founded on proof or certainty.\\n\\nQuestion: select the most suitable meaning for \"social\" in the following sentence: Over 100 participants from the main interest groups attended and debated issues such as the role of key actors including public authorities, social partners, voluntary and community organisations as well as service users.\\nChoose the corresponding definition among: \\n0) relating to human society and its members\\n1) living together or enjoying life in communities or organized groups\\n2) relating to or belonging to or characteristic of high society\\n3) composed of sociable people or formed for the purpose of sociability\\n4) tending to move or live together in groups or colonies of the same kind\\n5) marked by friendly companionship with others. \\nAnswer by reporting the corresponding definition and do not motivate your answer. Answer: 0) relating to human society and its members.\\n\\nQuestion: select the most suitable meaning for \"contains\" in the following sentence: Case Studies Each national report contains a portfolio of between 25 and 30 initiatives which best present policies and practices to improve the recruitment, training and development of ageing workers in both the work place and the community.\\nChoose the corresponding definition among: \\n0) include or contain; have as a component\\n1) contain or hold; have within\\n2) lessen the intensity of; temper; hold in restraint; hold or keep within limits\\n3) be divisible by\\n4) be capable of holding or containing\\n5) hold back, as of a danger or an enemy; check the expansion or influence of. \\nAnswer by reporting the corresponding definition and do not motivate your answer. Answer: 0) include or contain; have as a component.\\n\\nQuestion: select the most suitable meaning for '{word}' in the following sentence: {text}\\nChoose the corresponding definition among: \\n{candidate_definitions}.\\nAnswer by reporting the corresponding definition and do not motivate your answer. \\nAnswer: \"\"\",\n",
    "                                                },\n",
    "                                        \"not_mfs\":{\n",
    "                                                \"one_shot\":\"\"\"Question: select the most suitable meaning for \"questions\" in the following sentence: For decades, appeals courts have recognized that coverage of notorious cases can raise questions about a trial \\'s fairness.\\nChoose the corresponding definition among: \\n0) an instance of questioning\\n1) the subject matter at issue\\n2) a sentence of inquiry that asks for a reply\\n3) uncertainty about the truth or factuality or existence of something\\n4) a formal proposal for action made to a deliberative assembly for discussion and vote\\n5) an informal reference to a marriage proposal. \\nAnswer by reporting the corresponding definition and do not motivate your answer. Answer: 1) the subject matter at issue.\\n\\nQuestion: select the most suitable meaning for '{word}' in the following sentence: {text}\\nChoose the corresponding definition among: \\n{candidate_definitions}.\\nAnswer by reporting the corresponding definition and do not motivate your answer. \\nAnswer: \"\"\",\n",
    "                                                \"few_shot\":\"\"\"Question: select the most suitable meaning for \"reason\" in the following sentence: The reason is simple : Education takes place in the classroom, where the influence of money is minimal.\\nChoose the corresponding definition among: \\n0) a rational motive for a belief or action\\n1) an explanation of the cause of some phenomenon\\n2) the capacity for rational thought or inference or discrimination\\n3) the state of having good sense and sound judgment\\n4) a justification for something existing or happening\\n5) a fact that logically justifies some premise or conclusion. \\nAnswer by reporting the corresponding definition and do not motivate your answer. Answer: 1) an explanation of the cause of some phenomenon.\\n\\nQuestion: select the most suitable meaning for \"tossed\" in the following sentence: This time, it just got stronger and then the building started shaking violently up and down as though it were a child \\'s toy block that was being tossed.\\nChoose the corresponding definition among: \\n0) throw or toss with a light motion\\n1) lightly throw to see which side comes up\\n2) throw carelessly\\n3) move or stir about violently\\n4) throw or cast away\\n5) agitate. \\nAnswer by reporting the corresponding definition and do not motivate your answer. Answer: 3) move or stir about violently.\\n\\nQuestion: select the most suitable meaning for \"test\" in the following sentence: This test was the first to predict reliably whether an individual could expect to develop cancer.\\nChoose the corresponding definition among: \\n0) trying something to find out about it\\n1) any standardized procedure for measuring sensitivity or memory or intelligence or aptitude or personality etc\\n2) a set of questions or exercises evaluating skill or knowledge\\n3) the act of undergoing testing\\n4) the act of testing something\\n5) a hard outer covering as of some amoebas and sea urchins. \\nAnswer by reporting the corresponding definition and do not motivate your answer. Answer: 4) the act of testing something.\\n\\nQuestion: select the most suitable meaning for '{word}' in the following sentence: {text}\\nChoose the corresponding definition among: \\n{candidate_definitions}.\\nAnswer by reporting the corresponding definition and do not motivate your answer. \\nAnswer: \"\"\",\n",
    "                                                },\n",
    "                                        },\n",
    "                                \"10_candidates\":{\n",
    "                                        \"mfs\":{\n",
    "                                                \"one_shot\":\"\"\"Question: select the most suitable meaning for \"time\" in the following sentence: Every time you enter an expression, the \" ans \" variable value will be changed to the last result.\\nChoose the corresponding definition among: \\n0) an instance or single occasion for some event\\n1) a period of time considered as a resource under your control and sufficient to accomplish something\\n2) an indefinite period (usually marked by specific attributes or activities)\\n3) a suitable moment\\n4) the continuum of experience in which events pass from the future through the present to the past\\n5) a person\\'s experience on a particular occasion\\n6) a reading of a point in time as given by a clock\\n7) the fourth coordinate that is required (along with three spatial dimensions) to specify a physical event\\n8) rhythm as given by division into parts of equal duration\\n9) the period of time a prisoner is imprisoned. \\nAnswer by reporting the corresponding definition and do not motivate your answer. Answer: 0) an instance or single occasion for some event.\\n\\nQuestion: select the most suitable meaning for '{word}' in the following sentence: {text}\\nChoose the corresponding definition among: \\n{candidate_definitions}.\\nAnswer by reporting the corresponding definition and do not motivate your answer. \\nAnswer: \"\"\",\n",
    "                                                \"few_shot\":\"\"\"Question: select the most suitable meaning for \"rise\" in the following sentence: The indices have, however, been slowed by a renewed rise of the dollar, to a new two-month high against the Euro, which `` puts downward pressure on the sectors that are sensitive to the economic situation \\'\\', explained Owen Fitzpatrick from Deutsche Bank.\\nChoose the corresponding definition among: \\n0) a growth in strength or number or importance\\n1) the act of changing location in an upward direction\\n2) an upward slope or grade (as in a road)\\n3) a movement upward\\n4) the amount a salary is increased\\n5) the property possessed by a slope or surface that rises\\n6) a wave that lifts the surface of the water or ground\\n7) (theology) the origination of the Holy Spirit at Pentecost\\n8) an increase in cost\\n9) increase in price or value. \\nAnswer by reporting the corresponding definition and do not motivate your answer. Answer: 0) a growth in strength or number or importance.\\n\\nQuestion: select the most suitable meaning for \"seconds\" in the following sentence: I just felt another aftershock a few seconds ago.\\nChoose the corresponding definition among: \\n0) 1/60 of a minute; the basic unit of time adopted under the Systeme International d\\'Unites\\n1) an indefinitely short time\\n2) the fielding position of the player on a baseball team who is stationed near the second of the bases in the infield\\n3) a particular point in time\\n4) following the first in an ordering or series\\n5) a 60th part of a minute of arc\\n6) the official attendant of a contestant in a duel or boxing match\\n7) a speech seconding a motion\\n8) the gear that has the second lowest forward gear ratio in the gear box of a motor vehicle\\n9) merchandise that has imperfections; usually sold at a reduced price without the brand name. \\nAnswer by reporting the corresponding definition and do not motivate your answer. Answer: 0) 1/60 of a minute; the basic unit of time adopted under the Systeme International d\\'Unites.\\n\\nQuestion: select the most suitable meaning for \"bells\" in the following sentence: In the tower, five men and women pull rhythmically on ropes attached to the same five bells that first sounded here in 1614.\\nChoose the corresponding definition among: \\n0) a hollow device made of metal that makes a ringing sound when struck\\n1) a push button at an outer door that gives a ringing or buzzing signal when pushed\\n2) the sound of a bell being struck\\n3) (nautical) each of the eight half-hour units of nautical time signaled by strokes of a ship\\'s bell; eight bells signals 4:00, 8:00, or 12:00 o\\'clock, either a.m. or p.m.\\n4) the shape of a bell\\n5) a phonetician and father of Alexander Graham Bell (1819-1905)\\n6) English painter; sister of Virginia Woolf; prominent member of the Bloomsbury Group (1879-1961)\\n7) United States inventor (born in Scotland) of the telephone (1847-1922)\\n8) a percussion instrument consisting of a set of tuned bells that are struck with a hammer; used as an orchestral instrument\\n9) the flared opening of a tubular device. \\nAnswer by reporting the corresponding definition and do not motivate your answer. Answer: 0) a hollow device made of metal that makes a ringing sound when struck.\\n\\nQuestion: select the most suitable meaning for '{word}' in the following sentence: {text}\\nChoose the corresponding definition among: \\n{candidate_definitions}.\\nAnswer by reporting the corresponding definition and do not motivate your answer. \\nAnswer: \"\"\",\n",
    "                                                },\n",
    "                                        \"not_mfs\":{\n",
    "                                                \"one_shot\":\"\"\"Question: select the most suitable meaning for \"time\" in the following sentence: In patients who had not received chemotherapy in the past, the average survival time was 10.3 months in both groups.\\nChoose the corresponding definition among: \\n0) an instance or single occasion for some event\\n1) a period of time considered as a resource under your control and sufficient to accomplish something\\n2) an indefinite period (usually marked by specific attributes or activities)\\n3) a suitable moment\\n4) the continuum of experience in which events pass from the future through the present to the past\\n5) a person\\'s experience on a particular occasion\\n6) a reading of a point in time as given by a clock\\n7) the fourth coordinate that is required (along with three spatial dimensions) to specify a physical event\\n8) rhythm as given by division into parts of equal duration\\n9) the period of time a prisoner is imprisoned. \\nAnswer by reporting the corresponding definition and do not motivate your answer. Answer: 2) an indefinite period (usually marked by specific attributes or activities).\\n\\nQuestion: select the most suitable meaning for '{word}' in the following sentence: {text}\\nChoose the corresponding definition among: \\n{candidate_definitions}.\\nAnswer by reporting the corresponding definition and do not motivate your answer. \\nAnswer: \"\"\",\n",
    "                                                \"few_shot\":\"\"\"Question: select the most suitable meaning for \"looking\" in the following sentence: For months the Johns Hopkins researchers, using gene probes, experimentally crawled down the length of chromosome 17, looking for the smallest common bit of genetic material lost in all tumor cells.\\nChoose the corresponding definition among: \\n0) perceive with attention; direct one\\'s gaze towards\\n1) give a certain impression or have a certain outward aspect\\n2) have a certain outward or facial expression\\n3) search or seek\\n4) be oriented in a certain direction, often with respect to another reference point; be opposite to\\n5) take charge of or deal with\\n6) convey by one\\'s expression\\n7) look forward to the probable occurrence of\\n8) accord in appearance with\\n9) have faith or confidence in. \\nAnswer by reporting the corresponding definition and do not motivate your answer. Answer: 3) search or seek.\\n\\nQuestion: select the most suitable meaning for \"translate\" in the following sentence: To the extent that Democratic legislators from the South have held a disproportionate share of power in Congress since 1932 and have been able to translate such clout into relatively more local benefits for their respective constituencies, voters in the South have had an especially strong incentive to keep such Democrats in office.\\nChoose the corresponding definition among: \\n0) restate (words) from one language into another language\\n1) change from one form or medium into another\\n2) make sense of a language\\n3) bring to a certain spiritual state\\n4) change the position of (figures or bodies) in space without rotation\\n5) be equivalent in effect\\n6) be translatable, or be translatable in a certain way\\n7) subject to movement in which every part of the body moves parallel to and the same distance as every other point on the body\\n8) express, as in simple and less technical language\\n9) determine the amino-acid sequence of a protein during its synthesis by using information on the messenger RNA. \\nAnswer by reporting the corresponding definition and do not motivate your answer. Answer: 5) be equivalent in effect.\\n\\nQuestion: select the most suitable meaning for \"so\" in the following sentence: A series of 5,000 or so changes is a `` peal `` and takes about three hours.\\nChoose the corresponding definition among: \\n0) to a very great extent or degree\\n1) in a manner that facilitates\\n2) in such a condition or manner, especially as expressed or implied\\n3) to a certain unspecified extent or degree\\n4) in the same way; also\\n5) in the way indicated; ; ; (`thusly\\' is a nonstandard variant)\\n6) (usually followed by `that\\') to an extent or degree as expressed\\n7) subsequently or soon afterward (often used as sentence connectors)\\n8) (used to introduce a logical conclusion) from that fact or reason or as a result\\n9) in truth (often tends to intensify). \\nAnswer by reporting the corresponding definition and do not motivate your answer. Answer: 3) to a certain unspecified extent or degree.\\n\\nQuestion: select the most suitable meaning for '{word}' in the following sentence: {text}\\nChoose the corresponding definition among: \\n{candidate_definitions}.\\nAnswer by reporting the corresponding definition and do not motivate your answer. \\nAnswer: \"\"\",\n",
    "                                                },\n",
    "                                        },\n",
    "                                \"16_candidates\":{\n",
    "                                        \"mfs\":{\n",
    "                                                \"one_shot\":\"\"\"Question: select the most suitable meaning for \"placed\" in the following sentence: Because these freshmen placed far more emphasis on their partisan role -- spreading the Reagan revolution -- in national policy making, they were more vulnerable to defeat.\\nChoose the corresponding definition among: \\n0) put into a certain place or abstract location\\n1) place somebody in a particular situation or location\\n2) assign a rank or rating to\\n3) assign a location to\\n4) to arrange for\\n5) take a place in a competition; often followed by an ordinal\\n6) intend (something) to move towards a certain goal\\n7) recognize as being; establish the identity of someone or something\\n8) assign to (a job or a home)\\n9) locate\\n10) estimate\\n11) identify the location or place of\\n12) make an investment\\n13) assign to a station\\n14) finish second or better in a horse or dog race\\n15) sing a note with the correct pitch. \\nAnswer by reporting the corresponding definition and do not motivate your answer. Answer: 0) put into a certain place or abstract location.\\n\\nQuestion: select the most suitable meaning for '{word}' in the following sentence: {text}\\nChoose the corresponding definition among: \\n{candidate_definitions}.\\nAnswer by reporting the corresponding definition and do not motivate your answer. \\nAnswer: \"\"\",\n",
    "                                                \"few_shot\":\"\"\"Question: select the most suitable meaning for \"worse\" in the following sentence: -- In most states, increasing expenditures on education, in our current circumstances, will probably make things worse, not better.\\nChoose the corresponding definition among: \\n0) (comparative of `bad\\') inferior to another in quality or condition or desirability\\n1) changed for the worse in health or fitness\\n2) having undesirable or negative qualities\\n3) very intense\\n4) feeling physical discomfort or pain (`tough\\' is occasionally used colloquially for `bad\\')\\n5) (of foodstuffs) not in an edible or usable condition\\n6) feeling or expressing regret or sorrow or a sense of loss over something done or undone\\n7) not capable of being collected\\n8) below average in quality or performance\\n9) nonstandard\\n10) not financially safe or secure\\n11) physically unsound or diseased\\n12) capable of harming\\n13) characterized by wickedness or immorality\\n14) reproduced fraudulently\\n15) not working properly. \\nAnswer by reporting the corresponding definition and do not motivate your answer. Answer: 0) (comparative of `bad\\') inferior to another in quality or condition or desirability.\\n\\nQuestion: select the most suitable meaning for \"worse\" in the following sentence: -- `` Community involvement `` is an even worse idea.\\nChoose the corresponding definition among: \\n0) (comparative of `bad\\') inferior to another in quality or condition or desirability\\n1) changed for the worse in health or fitness\\n2) having undesirable or negative qualities\\n3) very intense\\n4) feeling physical discomfort or pain (`tough\\' is occasionally used colloquially for `bad\\')\\n5) (of foodstuffs) not in an edible or usable condition\\n6) feeling or expressing regret or sorrow or a sense of loss over something done or undone\\n7) not capable of being collected\\n8) below average in quality or performance\\n9) nonstandard\\n10) not financially safe or secure\\n11) physically unsound or diseased\\n12) capable of harming\\n13) characterized by wickedness or immorality\\n14) reproduced fraudulently\\n15) not working properly. \\nAnswer by reporting the corresponding definition and do not motivate your answer. Answer: 0) (comparative of `bad\\') inferior to another in quality or condition or desirability.\\n\\nQuestion: select the most suitable meaning for \"returned\" in the following sentence: Some time before midnight he returned to his apartment and hit the sack, putting the whole incident out of mind before he fell asleep.\\nChoose the corresponding definition among: \\n0) go or come back to place, condition, or activity where one has been before\\n1) give back\\n2) go back to a previous state\\n3) go back to something earlier\\n4) bring back to the point of departure\\n5) return in kind\\n6) make a return\\n7) answer back\\n8) be restored\\n9) pay back\\n10) pass down\\n11) elect again\\n12) be inherited by\\n13) return to a previous position; in mathematics\\n14) give or supply\\n15) submit (a report, etc.) to someone in authority. \\nAnswer by reporting the corresponding definition and do not motivate your answer. Answer: 0) go or come back to place, condition, or activity where one has been before.\\n\\nQuestion: select the most suitable meaning for '{word}' in the following sentence: {text}\\nChoose the corresponding definition among: \\n{candidate_definitions}.\\nAnswer by reporting the corresponding definition and do not motivate your answer. \\nAnswer: \"\"\",\n",
    "                                                },\n",
    "                                        \"not_mfs\":{\n",
    "                                                \"one_shot\":\"\"\"Question: select the most suitable meaning for \"found\" in the following sentence: Some found it on the screen of a personal computer.\\nChoose the corresponding definition among: \\n0) come upon, as if by accident; meet with\\n1) discover or determine the existence, presence, or fact of\\n2) come upon after searching; find the location of something that was missed or lost\\n3) establish after a calculation, investigation, experiment, survey, or study\\n4) come to believe on the basis of emotion, intuitions, or indefinite grounds\\n5) perceive or be contemporaneous with\\n6) get something or somebody for a specific purpose\\n7) make a discovery, make a new finding\\n8) make a discovery\\n9) obtain through effort or management\\n10) decide on and make a declaration about\\n11) receive a specified treatment (abstract)\\n12) perceive oneself to be in a certain condition or place\\n13) get or find back; recover the use of\\n14) succeed in reaching; arrive at\\n15) accept and make use of one\\'s personality, abilities, and situation. \\nAnswer by reporting the corresponding definition and do not motivate your answer. Answer: 2) come upon after searching; find the location of something that was missed or lost.\\n\\nQuestion: select the most suitable meaning for '{word}' in the following sentence: {text}\\nChoose the corresponding definition among: \\n{candidate_definitions}.\\nAnswer by reporting the corresponding definition and do not motivate your answer. \\nAnswer: \"\"\",\n",
    "                                                \"few_shot\":\"\"\"Question: select the most suitable meaning for \"places\" in the following sentence: He \\'d have to start going to some of the other places again.\\nChoose the corresponding definition among: \\n0) a point located with respect to surface features of some region\\n1) any area set aside for a particular purpose\\n2) an abstract mental location\\n3) a general vicinity\\n4) the post or function properly or customarily occupied or served by another\\n5) a particular situation\\n6) where you live at a particular time\\n7) a job in an organization\\n8) the particular portion of space occupied by something\\n9) proper or designated social situation\\n10) a space reserved for sitting (as in a theater or on a train or airplane)\\n11) the passage that is being read\\n12) proper or appropriate position or location\\n13) a public square with room for pedestrians\\n14) an item on a list or in a sequence\\n15) a blank area. \\nAnswer by reporting the corresponding definition and do not motivate your answer. Answer: 1) any area set aside for a particular purpose.\\n\\nQuestion: select the most suitable meaning for \"find\" in the following sentence: First, economists James Bennett and Thomas DiLorenzo find that GOP senators turn back roughly 10 % more of their allocated personal staff budgets than Democrats do.\\nChoose the corresponding definition among: \\n0) come upon, as if by accident; meet with\\n1) discover or determine the existence, presence, or fact of\\n2) come upon after searching; find the location of something that was missed or lost\\n3) establish after a calculation, investigation, experiment, survey, or study\\n4) come to believe on the basis of emotion, intuitions, or indefinite grounds\\n5) perceive or be contemporaneous with\\n6) get something or somebody for a specific purpose\\n7) make a discovery, make a new finding\\n8) make a discovery\\n9) obtain through effort or management\\n10) decide on and make a declaration about\\n11) receive a specified treatment (abstract)\\n12) perceive oneself to be in a certain condition or place\\n13) get or find back; recover the use of\\n14) succeed in reaching; arrive at\\n15) accept and make use of one\\'s personality, abilities, and situation. \\nAnswer by reporting the corresponding definition and do not motivate your answer. Answer: 3) establish after a calculation, investigation, experiment, survey, or study.\\n\\nQuestion: select the most suitable meaning for \"found\" in the following sentence: Despite that, when the Johns Hopkins scientists compared the gene they had found in the human cancer cells with the Mr. Levine \\'s p53 gene they found the two were identical ; it turned out that in Mr. Levine \\'s cancer studies, he had unknowingly been observing a damaged form of p53 -- a cancer-suppressing gene.\\nChoose the corresponding definition among: \\n0) come upon, as if by accident; meet with\\n1) discover or determine the existence, presence, or fact of\\n2) come upon after searching; find the location of something that was missed or lost\\n3) establish after a calculation, investigation, experiment, survey, or study\\n4) come to believe on the basis of emotion, intuitions, or indefinite grounds\\n5) perceive or be contemporaneous with\\n6) get something or somebody for a specific purpose\\n7) make a discovery, make a new finding\\n8) make a discovery\\n9) obtain through effort or management\\n10) decide on and make a declaration about\\n11) receive a specified treatment (abstract)\\n12) perceive oneself to be in a certain condition or place\\n13) get or find back; recover the use of\\n14) succeed in reaching; arrive at\\n15) accept and make use of one\\'s personality, abilities, and situation. \\nAnswer by reporting the corresponding definition and do not motivate your answer. Answer: 7) make a discovery, make a new finding.\\n\\nQuestion: select the most suitable meaning for '{word}' in the following sentence: {text}\\nChoose the corresponding definition among: \\n{candidate_definitions}.\\nAnswer by reporting the corresponding definition and do not motivate your answer. \\nAnswer: \"\"\",\n",
    "                                                },\n",
    "                                        },\n",
    "        },\n",
    "        \"mfs_analysis\":{\n",
    "                \"6_candidates\":{\n",
    "                                \"mfs\":{\n",
    "                                        \"one_shot\":\"\"\"Question: select the most suitable meaning for \"president\" in the following sentence: `` This stunning breach of ethics and indifference to the code belies claims by several justices that the court abides by the same rules that apply to all other federal judges, \\'\\' said Bob Edgar, the president of Common Cause.\\nChoose the corresponding definition among: \\n0) an executive officer of a firm or corporation\\n1) the person who holds the office of head of state of the United States government\\n2) the chief executive of a republic\\n3) the officer who presides at the meetings of an organization\\n4) the head administrative officer of a college or university\\n5) the office of the United States head of state. \\nAnswer by reporting the corresponding definition and do not motivate your answer. Answer: 0) an executive officer of a firm or corporation.\\n\\nQuestion: select the most suitable meaning for '{word}' in the following sentence: {text}\\nChoose the corresponding definition among: \\n{candidate_definitions}.\\nAnswer by reporting the corresponding definition and do not motivate your answer. \\nAnswer: \"\"\",\n",
    "                                        \"few_shot\":\"\"\"Question: select the most suitable meaning for \"down\" in the following sentence: For months the Johns Hopkins researchers, using gene probes, experimentally crawled down the length of chromosome 17, looking for the smallest common bit of genetic material lost in all tumor cells.\\nChoose the corresponding definition among: \\n0) spatially or metaphorically from a higher to a lower level or position\\n1) away from a more central or a more northerly place\\n2) paid in cash at time of purchase\\n3) from an earlier time\\n4) to a lower intensity\\n5) in an inactive or inoperative state. \\nAnswer by reporting the corresponding definition and do not motivate your answer. Answer: 0) spatially or metaphorically from a higher to a lower level or position.\\n\\nQuestion: select the most suitable meaning for \"table\" in the following sentence: An examination of changes in personal staffing decisions in the Senate between 1986 and 1987 -LRB- when control of that body changed party hands -RRB-, moreover, reveals that the personal staffing differences noted in the table can not be attributed to the disproportionate control Democrats exercise, due to their majority-party status, over other resources such as committee staff.\\nChoose the corresponding definition among: \\n0) a set of data arranged in rows and columns\\n1) a piece of furniture having a smooth flat top that is usually supported by one or more vertical legs\\n2) a piece of furniture with tableware for a meal laid out on it\\n3) flat tableland with steep edges\\n4) a company of people assembled at a table for a meal or game\\n5) food or meals in general. \\nAnswer by reporting the corresponding definition and do not motivate your answer. Answer: 0) a set of data arranged in rows and columns.\\n\\nQuestion: select the most suitable meaning for \"realize\" in the following sentence: To the extent that potential Republican candidates and their financial backers realize that the congressional prisoner \\'s dilemma game works to their disadvantage, the Republican Party will be hindered in its attempts to field a competitive slate of congressional candidates.\\nChoose the corresponding definition among: \\n0) be fully aware or cognizant of\\n1) perceive (an idea or situation) mentally\\n2) make real or concrete; give reality or substance to\\n3) earn on some commercial or business transaction; earn as salary or wages\\n4) convert into cash; of goods and property\\n5) expand or complete (a part in a piece of baroque music) by supplying the harmonies indicated in the figured bass. \\nAnswer by reporting the corresponding definition and do not motivate your answer. Answer: 0) be fully aware or cognizant of.\\n\\nQuestion: select the most suitable meaning for '{word}' in the following sentence: {text}\\nChoose the corresponding definition among: \\n{candidate_definitions}.\\nAnswer by reporting the corresponding definition and do not motivate your answer. \\nAnswer: \"\"\",\n",
    "                                        },\n",
    "                                \"not_mfs\":{\n",
    "                                        \"one_shot\":\"\"\"Question: select the most suitable meaning for \"president\" in the following sentence: The Central Council of Church Bell Ringers, a sort of parliament of ringing groups, aims to improve relations with vicars, says John C. Baldwin, president.\\nChoose the corresponding definition among: \\n0) an executive officer of a firm or corporation\\n1) the person who holds the office of head of state of the United States government\\n2) the chief executive of a republic\\n3) the officer who presides at the meetings of an organization\\n4) the head administrative officer of a college or university\\n5) the office of the United States head of state. \\nAnswer by reporting the corresponding definition and do not motivate your answer. Answer: 3) the officer who presides at the meetings of an organization.\\n\\nQuestion: select the most suitable meaning for '{word}' in the following sentence: {text}\\nChoose the corresponding definition among: \\n{candidate_definitions}.\\nAnswer by reporting the corresponding definition and do not motivate your answer. \\nAnswer: \"\"\",\n",
    "                                        \"few_shot\":\"\"\"Question: select the most suitable meaning for \"down\" in the following sentence: Shuts the program down.\\nChoose the corresponding definition among: \\n0) spatially or metaphorically from a higher to a lower level or position\\n1) away from a more central or a more northerly place\\n2) paid in cash at time of purchase\\n3) from an earlier time\\n4) to a lower intensity\\n5) in an inactive or inoperative state. \\nAnswer by reporting the corresponding definition and do not motivate your answer. Answer: 5) in an inactive or inoperative state.\\n\\nQuestion: select the most suitable meaning for \"table\" in the following sentence: I felt the temblor begin and glanced at the table next to mine, smiled that guilty smile and we both mouthed the words, `` Earth-quake ! `` together.\\nChoose the corresponding definition among: \\n0) a set of data arranged in rows and columns\\n1) a piece of furniture having a smooth flat top that is usually supported by one or more vertical legs\\n2) a piece of furniture with tableware for a meal laid out on it\\n3) flat tableland with steep edges\\n4) a company of people assembled at a table for a meal or game\\n5) food or meals in general. \\nAnswer by reporting the corresponding definition and do not motivate your answer. Answer: 4) a company of people assembled at a table for a meal or game.\\n\\nQuestion: select the most suitable meaning for \"realize\" in the following sentence: If we want to understand how it works, the best thing we can do is to realize that our input is being converted into MathML although it is not necessary to know MathML.\\nChoose the corresponding definition among: \\n0) be fully aware or cognizant of\\n1) perceive (an idea or situation) mentally\\n2) make real or concrete; give reality or substance to\\n3) earn on some commercial or business transaction; earn as salary or wages\\n4) convert into cash; of goods and property\\n5) expand or complete (a part in a piece of baroque music) by supplying the harmonies indicated in the figured bass. \\nAnswer by reporting the corresponding definition and do not motivate your answer. Answer: 1) perceive (an idea or situation) mentally.\\n\\nQuestion: select the most suitable meaning for '{word}' in the following sentence: {text}\\nChoose the corresponding definition among: \\n{candidate_definitions}.\\nAnswer by reporting the corresponding definition and do not motivate your answer. \\nAnswer: \"\"\",\n",
    "                                        },\n",
    "                                },\n",
    "        }\n",
    "}\n",
    "\n",
    "\n",
    "for k,v in prompts[\"ambiguity_analysis\"].items():\n",
    "    for kk,vv in v.items():\n",
    "        for approach, string in vv.items():\n",
    "            vv[approach] = increment_numbers_before_parenthesis(vv[approach])\n",
    "prompts\n",
    "\n",
    "import json\n",
    "\n",
    "with open(\"porco.json\", 'w') as json_file:\n",
    "    json.dump(prompts, json_file, indent=4)"
   ]
  }
 ],
 "metadata": {
  "kernelspec": {
   "display_name": "sappia",
   "language": "python",
   "name": "python3"
  },
  "language_info": {
   "codemirror_mode": {
    "name": "ipython",
    "version": 3
   },
   "file_extension": ".py",
   "mimetype": "text/x-python",
   "name": "python",
   "nbconvert_exporter": "python",
   "pygments_lexer": "ipython3",
   "version": "3.10.4"
  }
 },
 "nbformat": 4,
 "nbformat_minor": 2
}
